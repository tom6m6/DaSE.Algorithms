{
 "cells": [
  {
   "cell_type": "markdown",
   "metadata": {
    "collapsed": false
   },
   "source": [
    "1. 调用必要模块，定义必要常数"
   ]
  },
  {
   "cell_type": "code",
   "execution_count": 1,
   "metadata": {
    "collapsed": false
   },
   "outputs": [],
   "source": [
    "from PIL import Image\n",
    "import numpy as np\n",
    "import time\n",
    "DIMENSION = 256\n",
    "PIC_NUM = 100\n",
    "SIGMA = 1"
   ]
  },
  {
   "cell_type": "markdown",
   "metadata": {
    "collapsed": false
   },
   "source": [
    "2. 获取所有图片的RGB矩阵"
   ]
  },
  {
   "cell_type": "code",
   "execution_count": 2,
   "metadata": {
    "collapsed": false
   },
   "outputs": [],
   "source": [
    "start_time = time.time()\n",
    "RED_init = []\n",
    "GREEN_init = []\n",
    "BLUE_init = []\n",
    "for i in range(PIC_NUM):\n",
    "    if i < 10:\n",
    "        i = str(i)\n",
    "        img_fn = \"Images/agricultural/agricultural0\" + i + \".tif\"\n",
    "    else:\n",
    "        i = str(i)\n",
    "        img_fn = \"Images/agricultural/agricultural\" + i + \".tif\"\n",
    "\n",
    "    img = Image.open(img_fn)\n",
    "    rgb_img = img.convert(\"RGB\")\n",
    "    im = np.array(rgb_img)\n",
    "    Red = im[:,:,0]\n",
    "    Green = im[:,:,1]\n",
    "    Blue = im[:,:,2]\n",
    "    RED_init.append(Red)\n",
    "    GREEN_init.append(Green)\n",
    "    BLUE_init.append(Blue)\n",
    "\n",
    "# 转化为numpy列表\n",
    "RED_init = np.array(RED_init) # 存储每张图片的R矩阵\n",
    "GREEN_init = np.array(GREEN_init) # 存储每张图片的G矩阵\n",
    "BLUE_init = np.array(BLUE_init) # 存储每张图片的B矩阵"
   ]
  },
  {
   "cell_type": "markdown",
   "metadata": {
    "collapsed": false
   },
   "source": [
    "3. 将所有的矩阵放在一起，构造100 * 196608的矩阵"
   ]
  },
  {
   "cell_type": "code",
   "execution_count": 3,
   "metadata": {
    "collapsed": false
   },
   "outputs": [],
   "source": [
    "pictures = np.hstack((RED_init[0].flatten(), GREEN_init[0].flatten(), BLUE_init[0].flatten()))\n",
    "for i in range(1, PIC_NUM):\n",
    "    pic_data = np.hstack((RED_init[i].flatten(), GREEN_init[i].flatten(), BLUE_init[i].flatten()))\n",
    "    pictures = np.row_stack((pictures, pic_data))\n",
    "picture_mean = np.mean(pictures, axis = 0)"
   ]
  },
  {
   "cell_type": "markdown",
   "metadata": {
    "collapsed": false
   },
   "source": [
    "4. 构造高斯核函数"
   ]
  },
  {
   "cell_type": "code",
   "execution_count": 4,
   "metadata": {
    "collapsed": false
   },
   "outputs": [],
   "source": [
    "def kernel(x, y, sigma):\n",
    "    norm = np.dot((x - y).T, (x - y))\n",
    "    result = np.exp(-(norm / 2 / sigma ** 2)) # 高斯核函数\n",
    "    return result"
   ]
  },
  {
   "cell_type": "markdown",
   "metadata": {
    "collapsed": false
   },
   "source": [
    "5. 编写一个可以求矩阵特征值与特征向量的函数（这里使用了论文中的QR分解方法）"
   ]
  },
  {
   "cell_type": "code",
   "execution_count": 5,
   "metadata": {
    "collapsed": false
   },
   "outputs": [],
   "source": [
    "def eigenvalue_func(cov):\n",
    "    A_pre = np.zeros((PIC_NUM, PIC_NUM), dtype=float)\n",
    "    A_post = cov\n",
    "    S = np.eye(PIC_NUM, dtype=float)\n",
    "    while np.linalg.norm(np.diag(A_post) - np.diag(A_pre)) >= 0.00001:\n",
    "        A_pre = A_post\n",
    "        Q, R = np.linalg.qr(A_post)\n",
    "        S = np.matmul(S, Q)\n",
    "        A_post = np.matmul(R, Q)\n",
    "    return np.diag(A_post), S"
   ]
  },
  {
   "cell_type": "markdown",
   "metadata": {
    "collapsed": false
   },
   "source": [
    "6. 压缩一张图片"
   ]
  },
  {
   "cell_type": "code",
   "execution_count": 6,
   "metadata": {
    "collapsed": false
   },
   "outputs": [],
   "source": [
    "KernelMatrix = np.zeros((PIC_NUM, PIC_NUM))\n",
    "for i in range(PIC_NUM):\n",
    "    for j in range(PIC_NUM):\n",
    "        KernelMatrix[i][j] = kernel(pictures[i], pictures[j], SIGMA)"
   ]
  },
  {
   "cell_type": "code",
   "execution_count": 7,
   "metadata": {
    "collapsed": false
   },
   "outputs": [],
   "source": [
    "I = np.ones((PIC_NUM, PIC_NUM)) / PIC_NUM\n",
    "Normalized_K = KernelMatrix - I @ KernelMatrix - KernelMatrix @ I + I @ KernelMatrix @ I"
   ]
  },
  {
   "cell_type": "code",
   "execution_count": 8,
   "metadata": {
    "collapsed": false
   },
   "outputs": [],
   "source": [
    "eigenvalue, eigenvector = eigenvalue_func(Normalized_K)\n",
    "Normalized_eigenvector = np.zeros((PIC_NUM, PIC_NUM))\n",
    "for i in range(PIC_NUM):\n",
    "    if eigenvalue[i] < 0:\n",
    "        break\n",
    "    \n",
    "    norm = np.sqrt(np.dot(eigenvector[:, i].T, eigenvector[:, i]))\n",
    "    Normalized_eigenvector[:, i] = eigenvector[:, i] / norm / np.sqrt(eigenvalue[i])"
   ]
  },
  {
   "cell_type": "code",
   "execution_count": 9,
   "metadata": {
    "collapsed": false
   },
   "outputs": [],
   "source": [
    "k = 100\n",
    "project_vector = Normalized_K @ Normalized_eigenvector[:, :k]\n",
    "new_axis = np.matmul(project_vector.T, pictures)\n",
    "\n",
    "# reconstruct the image data with k PCs\n",
    "new_pictures = np.matmul(project_vector[:, :k], new_axis[:k, :])\n",
    "im3 = np.matmul(project_vector[:, :k], new_axis[:k, :])[0]\n",
    "\n",
    "im3 = im3.astype('uint8')\n",
    "\n",
    "# reconstruct the three (R,G,B) channels\n",
    "im3_channels = np.hsplit(im3, 3)\n",
    "for i in range(3):\n",
    "    im3_channels[i] = im3_channels[i].reshape((256, 256))\n",
    "im4 = np.zeros((256, 256, 3))\n",
    "for i in range(3):\n",
    "    im4[:,:,i] = im3_channels[i]\n",
    "new_image = Image.fromarray(np.uint8(im4*255*255))\n",
    "new_image.save(\"./test1.tif\")\n",
    "end_time = time.time()"
   ]
  },
  {
   "cell_type": "markdown",
   "metadata": {
    "collapsed": false
   },
   "source": [
    "7. 计算agricultural0.tif图像的重构误差"
   ]
  },
  {
   "cell_type": "code",
   "execution_count": 10,
   "metadata": {
    "collapsed": false
   },
   "outputs": [
    {
     "name": "stdout",
     "output_type": "stream",
     "text": [
      "96528.65310627266\n",
      "Running time: 4.590271472930908 seconds\n"
     ]
    }
   ],
   "source": [
    "Red_Error = RED_init[0] - im3_channels[0]\n",
    "Green_Error = GREEN_init[0] - im3_channels[1]\n",
    "Blue_Error = BLUE_init[0] - im3_channels[2]\n",
    "Error = np.linalg.norm(Red_Error, ord=\"fro\") + np.linalg.norm(Green_Error, ord=\"fro\") + np.linalg.norm(Blue_Error, ord=\"fro\")\n",
    "print(Error)\n",
    "print(\"Running time:\", end_time - start_time, \"seconds\")"
   ]
  }
 ],
 "metadata": {
  "kernelspec": {
   "display_name": "Python 3",
   "language": "python",
   "name": "python3"
  },
  "language_info": {
   "codemirror_mode": {
    "name": "ipython",
    "version": 3
   },
   "file_extension": ".py",
   "mimetype": "text/x-python",
   "name": "python",
   "nbconvert_exporter": "python",
   "pygments_lexer": "ipython3",
   "version": "3.10.9"
  }
 },
 "nbformat": 4,
 "nbformat_minor": 0
}
