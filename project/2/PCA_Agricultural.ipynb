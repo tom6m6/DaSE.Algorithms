{
 "cells": [
  {
   "cell_type": "markdown",
   "metadata": {
    "collapsed": false
   },
   "source": [
    "1. 调用必要模块，定义必要常数"
   ]
  },
  {
   "cell_type": "code",
   "execution_count": 1,
   "metadata": {
    "collapsed": false
   },
   "outputs": [],
   "source": [
    "from PIL import Image\n",
    "import numpy as np\n",
    "import time\n",
    "DIMENSION = 256\n",
    "PIC_NUM = 100"
   ]
  },
  {
   "cell_type": "markdown",
   "metadata": {
    "collapsed": false
   },
   "source": [
    "2. 获取所有图片的RGB矩阵"
   ]
  },
  {
   "cell_type": "code",
   "execution_count": 2,
   "metadata": {
    "collapsed": false
   },
   "outputs": [],
   "source": [
    "start_time = time.time()\n",
    "RED_init = []\n",
    "GREEN_init = []\n",
    "BLUE_init = []\n",
    "for i in range(PIC_NUM):\n",
    "    if i < 10:\n",
    "        i = str(i)\n",
    "        img_fn = \"Images/agricultural/agricultural0\" + i + \".tif\"\n",
    "    else:\n",
    "        i = str(i)\n",
    "        img_fn = \"Images/agricultural/agricultural\" + i + \".tif\"\n",
    "\n",
    "    img = Image.open(img_fn)\n",
    "    rgb_img = img.convert(\"RGB\")\n",
    "    im = np.array(rgb_img)\n",
    "    Red = im[:,:,0]\n",
    "    Green = im[:,:,1]\n",
    "    Blue = im[:,:,2]\n",
    "    RED_init.append(Red)\n",
    "    GREEN_init.append(Green)\n",
    "    BLUE_init.append(Blue)\n",
    "\n",
    "# 转化为numpy列表\n",
    "RED_init = np.array(RED_init) # 存储每张图片的R矩阵\n",
    "GREEN_init = np.array(GREEN_init) # 存储每张图片的G矩阵\n",
    "BLUE_init = np.array(BLUE_init) # 存储每张图片的B矩阵"
   ]
  },
  {
   "cell_type": "markdown",
   "metadata": {
    "collapsed": false
   },
   "source": [
    "3. 编写一个可以让样本去中心化，且计算样本协方差矩阵的函数"
   ]
  },
  {
   "cell_type": "code",
   "execution_count": 3,
   "metadata": {
    "collapsed": false
   },
   "outputs": [],
   "source": [
    "def Cov_calculation(Red_cal, Green_cal, Blue_cal):\n",
    "    average_red = np.mean(Red_cal, axis=0)\n",
    "    average_green = np.mean(Green_cal, axis=0)\n",
    "    average_blue = np.mean(Blue_cal, axis=0)\n",
    "    Red_Sample = Red_cal - average_red\n",
    "    Green_Sample = Green_cal - average_green\n",
    "    Blue_Sample = Blue_cal - average_blue\n",
    "    Cov_Red = np.matmul(Red_Sample, Red_Sample.T) / (DIMENSION - 1)\n",
    "    Cov_Green = np.matmul(Green_Sample, Green_Sample.T) / (DIMENSION - 1)\n",
    "    Cov_Blue = np.matmul(Blue_Sample, Blue_Sample.T) / (DIMENSION - 1)\n",
    "    return average_red, average_green, average_blue, Red_Sample, Green_Sample, Blue_Sample, Cov_Red, Cov_Green, Cov_Blue"
   ]
  },
  {
   "cell_type": "markdown",
   "metadata": {
    "collapsed": false
   },
   "source": [
    "4. 编写一个可以求矩阵特征值与特征向量的函数（这里使用了论文中的QR分解方法）"
   ]
  },
  {
   "cell_type": "code",
   "execution_count": 4,
   "metadata": {
    "collapsed": false
   },
   "outputs": [],
   "source": [
    "def eigenvalue_func(cov):\n",
    "    A_pre = np.zeros((DIMENSION, DIMENSION), dtype=float)\n",
    "    A_post = cov\n",
    "    S = np.eye(DIMENSION, dtype=float)\n",
    "    while np.linalg.norm(np.diag(A_post) - np.diag(A_pre)) >= 0.00001:\n",
    "        A_pre = A_post\n",
    "        Q, R = np.linalg.qr(A_post)\n",
    "        S = np.matmul(S, Q)\n",
    "        A_post = np.matmul(R, Q)\n",
    "    return np.diag(A_post), S"
   ]
  },
  {
   "cell_type": "markdown",
   "metadata": {
    "collapsed": false
   },
   "source": [
    "5. 选取$k$个主成分"
   ]
  },
  {
   "cell_type": "code",
   "execution_count": 5,
   "metadata": {
    "collapsed": false
   },
   "outputs": [],
   "source": [
    "def num_com(eigen):\n",
    "    k = 0 # 主成分的个数\n",
    "    k_eigen = 0\n",
    "    eigen_sum = np.sum(eigen)\n",
    "    for i in eigen:\n",
    "        k_eigen = k_eigen + i\n",
    "        k = k + 1\n",
    "        if k_eigen / eigen_sum >= 0.9:\n",
    "            break\n",
    "    return k"
   ]
  },
  {
   "cell_type": "markdown",
   "metadata": {
    "collapsed": false
   },
   "source": [
    "6. 对图片进行压缩，计算运行时间与重构误差"
   ]
  },
  {
   "cell_type": "code",
   "execution_count": 6,
   "metadata": {
    "collapsed": false
   },
   "outputs": [
    {
     "name": "stdout",
     "output_type": "stream",
     "text": [
      "Running time: 6680.422995328903 seconds\n",
      "447548.7956132614\n"
     ]
    }
   ],
   "source": [
    "Error = 0\n",
    "for i in range(PIC_NUM):\n",
    "    Red_cal = RED_init[i]\n",
    "    Green_cal = GREEN_init[i]\n",
    "    Blue_cal = BLUE_init[i]\n",
    "    average_red, average_green, average_blue, Red_Sample, Green_Sample, Blue_Sample, Cov_Red, Cov_Green, Cov_Blue = Cov_calculation(Red_cal, Green_cal, Blue_cal)\n",
    "    Red_eigenvalue, Red_eigenvector = eigenvalue_func(Cov_Red)\n",
    "    Green_eigenvalue, Green_eigenvector = eigenvalue_func(Cov_Green)\n",
    "    Blue_eigenvalue, Blue_eigenvector = eigenvalue_func(Cov_Blue)\n",
    "    k_Red = num_com(Red_eigenvalue)\n",
    "    k_Green = num_com(Green_eigenvalue)\n",
    "    k_Blue = num_com(Blue_eigenvalue)\n",
    "    Slice_Red = slice(0, k_Red, 1)\n",
    "    Slice_Green = slice(0, k_Green, 1)\n",
    "    Slice_Blue = slice(0, k_Blue, 1)\n",
    "    S_Red = Red_eigenvector.T[Slice_Red]\n",
    "    S_Green = Green_eigenvector.T[Slice_Green]\n",
    "    S_Blue = Blue_eigenvector.T[Slice_Blue]\n",
    "    W_Red = S_Red.T\n",
    "    W_Green = S_Green.T\n",
    "    W_Blue = S_Blue.T\n",
    "    Red_result = np.matmul(W_Red.T, Red_Sample)\n",
    "    Red_result = np.matmul(W_Red, Red_result)\n",
    "    Red_result = Red_result + average_red\n",
    "    Green_result = np.matmul(W_Green.T, Green_Sample)\n",
    "    Green_result = np.matmul(W_Green, Green_result)\n",
    "    Green_result = Green_result + average_green\n",
    "    Blue_result = np.matmul(W_Blue.T, Blue_Sample)\n",
    "    Blue_result = np.matmul(W_Blue, Blue_result)\n",
    "    Blue_result = Blue_result + average_blue\n",
    "    im1 = np.hstack((Red_result, Green_result, Blue_result))\n",
    "\n",
    "    im3_channels = np.hsplit(im1, 3)\n",
    "    im4 = np.zeros_like(im)\n",
    "    for j in range(3):\n",
    "        im4[:,:,j] = im3_channels[j]\n",
    "    \n",
    "    if i < 10:\n",
    "        k = str(i)\n",
    "        Image.fromarray(im4).save(\"Result/agricultural/agricultural0\" + k + \".tif\")\n",
    "    else:\n",
    "        k = str(i)\n",
    "        Image.fromarray(im4).save(\"Result/agricultural/agricultural\" + k + \".tif\")\n",
    "    \n",
    "    Red_Error = Red_result - Red_cal\n",
    "    Green_Error = Green_result - Green_cal\n",
    "    Blue_Error = Blue_result - Blue_cal\n",
    "\n",
    "    Error = Error + np.linalg.norm(Red_Error, ord=\"fro\") + np.linalg.norm(Green_Error, ord=\"fro\") + np.linalg.norm(Blue_Error, ord=\"fro\")\n",
    "end_time = time.time()\n",
    "print(\"Running time:\" , end_time - start_time, \"seconds\")\n",
    "print(Error)"
   ]
  },
  {
   "cell_type": "markdown",
   "metadata": {
    "collapsed": false
   },
   "source": [
    "7. 计算agricultural00.tif图像的重构误差"
   ]
  },
  {
   "cell_type": "code",
   "execution_count": 7,
   "metadata": {
    "collapsed": false
   },
   "outputs": [
    {
     "name": "stdout",
     "output_type": "stream",
     "text": [
      "5338.124808206312\n",
      "Running time: 113.82537364959717 seconds\n"
     ]
    }
   ],
   "source": [
    "start_time = time.time()\n",
    "Red_cal = RED_init[0]\n",
    "Green_cal = GREEN_init[0]\n",
    "Blue_cal = BLUE_init[0]\n",
    "average_red, average_green, average_blue, Red_Sample, Green_Sample, Blue_Sample, Cov_Red, Cov_Green, Cov_Blue = Cov_calculation(Red_cal, Green_cal, Blue_cal)\n",
    "Red_eigenvalue, Red_eigenvector = eigenvalue_func(Cov_Red)\n",
    "Green_eigenvalue, Green_eigenvector = eigenvalue_func(Cov_Green)\n",
    "Blue_eigenvalue, Blue_eigenvector = eigenvalue_func(Cov_Blue)\n",
    "k_Red = num_com(Red_eigenvalue)\n",
    "k_Green = num_com(Green_eigenvalue)\n",
    "k_Blue = num_com(Blue_eigenvalue)\n",
    "Slice_Red = slice(0, k_Red, 1)\n",
    "Slice_Green = slice(0, k_Green, 1)\n",
    "Slice_Blue = slice(0, k_Blue, 1)\n",
    "S_Red = Red_eigenvector.T[Slice_Red]\n",
    "S_Green = Green_eigenvector.T[Slice_Green]\n",
    "S_Blue = Blue_eigenvector.T[Slice_Blue]\n",
    "W_Red = S_Red.T\n",
    "W_Green = S_Green.T\n",
    "W_Blue = S_Blue.T\n",
    "Red_result = np.matmul(W_Red.T, Red_Sample)\n",
    "Red_result = np.matmul(W_Red, Red_result)\n",
    "Red_result = Red_result + average_red\n",
    "Green_result = np.matmul(W_Green.T, Green_Sample)\n",
    "Green_result = np.matmul(W_Green, Green_result)\n",
    "Green_result = Green_result + average_green\n",
    "Blue_result = np.matmul(W_Blue.T, Blue_Sample)\n",
    "Blue_result = np.matmul(W_Blue, Blue_result)\n",
    "Blue_result = Blue_result + average_blue\n",
    "\n",
    "Red_Error = Red_result - Red_cal\n",
    "Green_Error = Green_result - Green_cal\n",
    "Blue_Error = Blue_result - Blue_cal\n",
    "\n",
    "Error = np.linalg.norm(Red_Error, ord=\"fro\") + np.linalg.norm(Green_Error, ord=\"fro\") + np.linalg.norm(Blue_Error, ord=\"fro\")\n",
    "print(Error)\n",
    "end_time = time.time()\n",
    "print(\"Running time:\",end_time - start_time,\"seconds\")"
   ]
  }
 ],
 "metadata": {
  "kernelspec": {
   "display_name": "Python 3",
   "language": "python",
   "name": "python3"
  },
  "language_info": {
   "codemirror_mode": {
    "name": "ipython",
    "version": 3
   },
   "file_extension": ".py",
   "mimetype": "text/x-python",
   "name": "python",
   "nbconvert_exporter": "python",
   "pygments_lexer": "ipython3",
   "version": "3.10.9"
  }
 },
 "nbformat": 4,
 "nbformat_minor": 0
}
